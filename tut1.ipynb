{
 "cells": [
  {
   "cell_type": "heading",
   "metadata": {},
   "level": 1,
   "source": [
    "Computational Investment in Python - I"
   ]
  },
  {
   "cell_type": "markdown",
   "metadata": {},
   "source": [
    "In this first notebook we are going to learn how to use a jupyter notebook to do our research and experiments."
   ]
  },
  {
   "cell_type": "markdown",
   "metadata": {},
   "source": [
    "A jupyter notebook is just an integrated python environment. You can have markdown cells and code cells and run the code cells with CTRL+ENTER."
   ]
  },
  {
   "cell_type": "code",
   "execution_count": 2,
   "metadata": {},
   "outputs": [
    {
     "name": "stdout",
     "output_type": "stream",
     "text": [
      "4\n"
     ]
    }
   ],
   "source": [
    "print 2+2"
   ]
  },
  {
   "cell_type": "code",
   "execution_count": 35,
   "metadata": {
    "collapsed": true
   },
   "outputs": [],
   "source": [
    "import quandl\n",
    "import pandas as pd # not really needed in this example\n",
    "import matplotlib.pyplot as plt"
   ]
  },
  {
   "cell_type": "markdown",
   "metadata": {},
   "source": [
    "Store y"
   ]
  },
  {
   "cell_type": "code",
   "execution_count": 5,
   "metadata": {},
   "outputs": [],
   "source": [
    "api_key = open('quandlapikey.txt', 'r').read()"
   ]
  },
  {
   "cell_type": "markdown",
   "metadata": {},
   "source": [
    ""
   ]
  },
  {
   "cell_type": "code",
   "execution_count": 6,
   "metadata": {},
   "outputs": [
    {
     "name": "stdout",
     "output_type": "stream",
     "text": [
      "             Open   High    Low  Close     Volume  Dividend  Split  Adj_Open  \\\nDate                                                                           \n1980-12-12  28.75  28.87  28.75  28.75  2093900.0       0.0    1.0  0.424421   \n1980-12-15  27.38  27.38  27.25  27.25   785200.0       0.0    1.0  0.404196   \n1980-12-16  25.37  25.37  25.25  25.25   472000.0       0.0    1.0  0.374524   \n1980-12-17  25.87  26.00  25.87  25.87   385900.0       0.0    1.0  0.381905   \n1980-12-18  26.63  26.75  26.63  26.63   327900.0       0.0    1.0  0.393125   \n\n            Adj_High   Adj_Low  Adj_Close   Adj_Volume  \nDate                                                    \n1980-12-12  0.426193  0.424421   0.424421  117258400.0  \n1980-12-15  0.404196  0.402277   0.402277   43971200.0  \n1980-12-16  0.374524  0.372752   0.372752   26432000.0  \n1980-12-17  0.383824  0.381905   0.381905   21610400.0  \n1980-12-18  0.394896  0.393125   0.393125   18362400.0  \n"
     ]
    }
   ],
   "source": [
    "query = 'EOD/AAPL'\n",
    "df = quandl.get(query, authtoken=api_key)\n",
    "print df.head()"
   ]
  },
  {
   "cell_type": "markdown",
   "metadata": {},
   "source": [
    "You can access the powerful matplot library to plot your results.\n",
    "In this example we are only plotting"
   ]
  },
  {
   "cell_type": "code",
   "execution_count": 36,
   "metadata": {},
   "outputs": [],
   "source": [
    "plt.clf()\n",
    "plt.plot(df.loc['2016-1-1':'2016-12-31'].index, df.loc['2016-1-1':'2016-12-31']['Adj_Close'])\n",
    "plt.legend(['AAPL'])\n",
    "plt.ylabel('Adjusted Close')\n",
    "plt.xlabel('Date')\n",
    "plt.savefig('outputs/adjustedcloseAAPL.pdf', format='pdf')"
   ]
  }
 ],
 "metadata": {
  "kernelspec": {
   "display_name": "Python 2",
   "language": "python",
   "name": "python2"
  },
  "language_info": {
   "codemirror_mode": {
    "name": "ipython",
    "version": 2.0
   },
   "file_extension": ".py",
   "mimetype": "text/x-python",
   "name": "python",
   "nbconvert_exporter": "python",
   "pygments_lexer": "ipython2",
   "version": "2.7.6"
  }
 },
 "nbformat": 4,
 "nbformat_minor": 0
}