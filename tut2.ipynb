{
 "cells": [
  {
   "cell_type": "heading",
   "metadata": {},
   "level": 1,
   "source": [
    ""
   ]
  },
  {
   "cell_type": "markdown",
   "metadata": {},
   "source": [
    "This notebook is going to try to explain a simple trading strategy usually called Mean Reversion.\n",
    "The idea behind this algorithm is that we looking a long price mean for a stock you see a trend and you can compare that trend with a short mean (usually 10 days) to find patterns in which the short mean falls back to the long mean in the long term."
   ]
  },
  {
   "cell_type": "markdown",
   "metadata": {},
   "source": [
    ""
   ]
  },
  {
   "cell_type": "code",
   "execution_count": 9,
   "metadata": {
    "collapsed": true
   },
   "outputs": [],
   "source": [
    "%matplotlib inline\n",
    "\n",
    "import quandl\n",
    "import pandas as pd\n",
    "import matplotlib.pyplot as plt"
   ]
  },
  {
   "cell_type": "markdown",
   "metadata": {},
   "source": [
    "Get key"
   ]
  },
  {
   "cell_type": "code",
   "execution_count": 2,
   "metadata": {},
   "outputs": [],
   "source": [
    "api_key = open('quandlapikey.txt', 'r').read()"
   ]
  },
  {
   "cell_type": "markdown",
   "metadata": {},
   "source": [
    ""
   ]
  },
  {
   "cell_type": "code",
   "execution_count": 3,
   "metadata": {},
   "outputs": [
    {
     "name": "stdout",
     "output_type": "stream",
     "text": [
      "             Open   High    Low  Close     Volume  Dividend  Split  Adj_Open  \\\nDate                                                                           \n1980-12-12  28.75  28.87  28.75  28.75  2093900.0       0.0    1.0  0.424421   \n1980-12-15  27.38  27.38  27.25  27.25   785200.0       0.0    1.0  0.404196   \n1980-12-16  25.37  25.37  25.25  25.25   472000.0       0.0    1.0  0.374524   \n1980-12-17  25.87  26.00  25.87  25.87   385900.0       0.0    1.0  0.381905   \n1980-12-18  26.63  26.75  26.63  26.63   327900.0       0.0    1.0  0.393125   \n\n            Adj_High   Adj_Low  Adj_Close   Adj_Volume  \nDate                                                    \n1980-12-12  0.426193  0.424421   0.424421  117258400.0  \n1980-12-15  0.404196  0.402277   0.402277   43971200.0  \n1980-12-16  0.374524  0.372752   0.372752   26432000.0  \n1980-12-17  0.383824  0.381905   0.381905   21610400.0  \n1980-12-18  0.394896  0.393125   0.393125   18362400.0  \n"
     ]
    }
   ],
   "source": [
    "query = 'EOD/AAPL'\n",
    "df = quandl.get(query, authtoken=api_key)\n",
    "print df.head()"
   ]
  },
  {
   "cell_type": "markdown",
   "metadata": {},
   "source": [
    "Calculate means"
   ]
  },
  {
   "cell_type": "code",
   "execution_count": 23,
   "metadata": {},
   "outputs": [
    {
     "name": "stdout",
     "output_type": "stream",
     "text": [
      "Date\n2017-05-24    153.820\n2017-05-25    153.812\n2017-05-26    153.563\n2017-05-30    153.360\n2017-05-31    153.089\n2017-06-01    153.382\n2017-06-02    153.673\n2017-06-05    153.760\n2017-06-06    153.806\n2017-06-07    153.963\nName: Adj_Close, dtype: float64\nDate\n2017-04-26    141.727351\n2017-04-27    141.837899\n2017-04-28    141.936163\n2017-05-01    142.154935\n2017-05-02    142.355780\n2017-05-03    142.595465\n2017-05-04    142.765105\n2017-05-05    143.032012\n2017-05-08    143.442665\n2017-05-09    143.877884\n2017-05-10    144.191932\n2017-05-11    144.539178\n2017-05-12    144.964398\n2017-05-15    145.385248\n2017-05-16    145.797103\n2017-05-17    145.999437\n2017-05-18    146.303002\n2017-05-19    146.635852\n2017-05-22    147.010325\n2017-05-23    147.384108\n2017-05-24    147.793682\n2017-05-25    148.215280\n2017-05-26    148.653108\n2017-05-30    149.067043\n2017-05-31    149.471558\n2017-06-01    149.907337\n2017-06-02    150.360354\n2017-06-05    150.768348\n2017-06-06    151.148196\n2017-06-07    151.529164\nName: Adj_Close, dtype: float64\n"
     ]
    },
    {
     "name": "stderr",
     "output_type": "stream",
     "text": [
      "C:\\Python27\\lib\\site-packages\\ipykernel_launcher.py:2: FutureWarning: pd.rolling_mean is deprecated for Series and will be removed in a future version, replace with \n\tSeries.rolling(window=30,center=False).mean()\n  \nC:\\Python27\\lib\\site-packages\\ipykernel_launcher.py:3: FutureWarning: pd.rolling_mean is deprecated for Series and will be removed in a future version, replace with \n\tSeries.rolling(window=10,center=False).mean()\n  This is separate from the ipykernel package so we can avoid doing imports until\n"
     ]
    }
   ],
   "source": [
    "x = df['Adj_Close']\n",
    "mavg_30 = pd.rolling_mean(x, window=30)\n",
    "mavg_10 = pd.rolling_mean(x, window=10)\n",
    "\n",
    "print mavg_10[-10:]\n",
    "print mavg_30[-30:]"
   ]
  },
  {
   "cell_type": "markdown",
   "metadata": {},
   "source": [
    ""
   ]
  },
  {
   "cell_type": "code",
   "execution_count": 28,
   "metadata": {},
   "outputs": [
    {
     "data": {
      "image/png": "[encoded data removed]",
      "text/plain": [
       "<matplotlib.figure.Figure at 0x89fab30>"
      ]
     },
     "metadata": {},
     "output_type": "display_data"
    }
   ],
   "source": [
    "mavg30plt = plt.plot(mavg_30[-60:].index, mavg_30[-60:])\n",
    "mavg10plt = plt.plot(mavg_10[-60:].index, mavg_10[-60:])\n",
    "plt.title('SMA for AAPL')\n",
    "plt.legend(['SMA30 days', 'SMA10 days'])\n",
    "plt.show()"
   ]
  },
  {
   "cell_type": "markdown",
   "metadata": {},
   "source": [
    ""
   ]
  }
 ],
 "metadata": {
  "kernelspec": {
   "display_name": "Python 2",
   "language": "python",
   "name": "python2"
  },
  "language_info": {
   "codemirror_mode": {
    "name": "ipython",
    "version": 2.0
   },
   "file_extension": ".py",
   "mimetype": "text/x-python",
   "name": "python",
   "nbconvert_exporter": "python",
   "pygments_lexer": "ipython2",
   "version": "2.7.6"
  }
 },
 "nbformat": 4,
 "nbformat_minor": 0
}